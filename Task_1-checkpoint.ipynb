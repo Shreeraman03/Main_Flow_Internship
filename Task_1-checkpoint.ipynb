{
 "cells": [
  {
   "cell_type": "code",
   "execution_count": 26,
   "id": "27101dd6-6cac-4cb5-ab16-71ec725b6e7a",
   "metadata": {},
   "outputs": [
    {
     "name": "stdout",
     "output_type": "stream",
     "text": [
      "original list:  [10, 20, 30, 40, 50]\n",
      "After adding 60 to the list:  [10, 20, 30, 40, 50, 60]\n",
      "After removing 20 to the list:  [10, 30, 40, 50, 60]\n",
      "After modifying the list:  [10, 25, 40, 50, 60]\n"
     ]
    }
   ],
   "source": [
    "#CREATING A LIST\n",
    "my_list = [10,20,30,40,50]\n",
    "print(\"original list: \",my_list)\n",
    "\n",
    "#ADDING AN ELEMENT TO THE LIST\n",
    "my_list.append(60)\n",
    "print(\"After adding 60 to the list: \",my_list)\n",
    "\n",
    "#REMOVING THE ELEMENT \n",
    "my_list.remove(20)\n",
    "print(\"After removing 20 to the list: \",my_list)\n",
    "\n",
    "#MODIFYING THE ELEMENT\n",
    "my_list[1] = 25\n",
    "print(\"After modifying the list: \",my_list) #changing 30 to 25"
   ]
  },
  {
   "cell_type": "code",
   "execution_count": 28,
   "id": "1a41ee83-5829-4263-b24f-f2f8252efa7b",
   "metadata": {},
   "outputs": [
    {
     "name": "stdout",
     "output_type": "stream",
     "text": [
      "\n",
      "Original Dictionary: {'name': 'Alice', 'age': 25, 'city': 'New York'}\n",
      "After Adding 'profession': {'name': 'Alice', 'age': 25, 'city': 'New York', 'profession': 'Engineer'}\n",
      "After Removing 'city': {'name': 'Alice', 'age': 25, 'profession': 'Engineer'}\n",
      "After Modifying 'age': {'name': 'Alice', 'age': 26, 'profession': 'Engineer'}\n"
     ]
    }
   ],
   "source": [
    "# Creating a Dictionary\n",
    "my_dict = {'name': 'Alice', 'age': 25, 'city': 'New York'}\n",
    "print(\"\\nOriginal Dictionary:\", my_dict)\n",
    "\n",
    "# Adding a new key-value pair\n",
    "my_dict['profession'] = 'Engineer'\n",
    "print(\"After Adding 'profession':\", my_dict)\n",
    "\n",
    "# Removing a key-value pair\n",
    "del my_dict['city']\n",
    "print(\"After Removing 'city':\", my_dict)\n",
    "\n",
    "# Modifying an existing key-value pair\n",
    "my_dict['age'] = 26\n",
    "print(\"After Modifying 'age':\", my_dict)"
   ]
  },
  {
   "cell_type": "code",
   "execution_count": 30,
   "id": "ad970605-73d3-4eab-9ff9-c966d82a8134",
   "metadata": {},
   "outputs": [
    {
     "name": "stdout",
     "output_type": "stream",
     "text": [
      "\n",
      "Original Set: {1, 2, 3, 4, 5}\n",
      "After Adding 5 to the Set: {1, 2, 3, 4, 5, 6}\n",
      "After Removing 3 from the Set: {1, 2, 4, 5, 6}\n"
     ]
    }
   ],
   "source": [
    "# Creating a Set\n",
    "my_set = {1, 2, 3, 4, 5}\n",
    "print(\"\\nOriginal Set:\", my_set)\n",
    "\n",
    "# Adding an element to the set\n",
    "my_set.add(6)\n",
    "print(\"After Adding 5 to the Set:\", my_set)\n",
    "\n",
    "# Removing an element from the set\n",
    "my_set.remove(3)\n",
    "print(\"After Removing 3 from the Set:\", my_set)"
   ]
  },
  {
   "cell_type": "code",
   "execution_count": null,
   "id": "127fb9c9-1954-466a-8a9b-e76c6169db01",
   "metadata": {},
   "outputs": [],
   "source": []
  }
 ],
 "metadata": {
  "kernelspec": {
   "display_name": "Python 3 (ipykernel)",
   "language": "python",
   "name": "python3"
  },
  "language_info": {
   "codemirror_mode": {
    "name": "ipython",
    "version": 3
   },
   "file_extension": ".py",
   "mimetype": "text/x-python",
   "name": "python",
   "nbconvert_exporter": "python",
   "pygments_lexer": "ipython3",
   "version": "3.11.7"
  }
 },
 "nbformat": 4,
 "nbformat_minor": 5
}
